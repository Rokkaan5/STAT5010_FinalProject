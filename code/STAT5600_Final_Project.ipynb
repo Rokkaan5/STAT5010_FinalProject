{
  "cells": [
    {
      "cell_type": "code",
      "execution_count": 2,
      "metadata": {
        "id": "K5Oc0oxNPj5h"
      },
      "outputs": [],
      "source": [
        "import pandas as pd\n",
        "import numpy as np\n",
        "from sklearn.neighbors import KNeighborsClassifier\n",
        "from sklearn.preprocessing import StandardScaler\n",
        "from sklearn.metrics import confusion_matrix, f1_score, accuracy_score, roc_curve, RocCurveDisplay\n",
        "from sklearn.svm import SVC\n",
        "from sklearn.ensemble import RandomForestClassifier\n",
        "from lightgbm import LGBMRegressor\n",
        "from lightgbm import LGBMClassifier\n",
        "import matplotlib.pyplot as plt\n",
        "from sklearn.model_selection import GridSearchCV \n",
        "import seaborn as sns\n",
        "\n",
        "\n",
        "from keras.models import Sequential\n",
        "from keras.layers import Dense\n",
        "from keras.layers import GRU, LSTM\n",
        "from keras.layers import Dropout\n",
        "from keras import backend as K"
      ]
    },
    {
      "cell_type": "code",
      "execution_count": 3,
      "metadata": {
        "id": "C7zV2N_xQAu4"
      },
      "outputs": [],
      "source": [
        "new_df = pd.read_csv(\"/content/drive/MyDrive/new_df.csv\")\n",
        "new_df.drop(columns = 'Unnamed: 0', inplace=True)"
      ]
    },
    {
      "cell_type": "code",
      "execution_count": 4,
      "metadata": {
        "id": "Aoe1C9Q1aooO"
      },
      "outputs": [],
      "source": [
        "#normalizing\n",
        "scaler = StandardScaler()\n",
        "new_df.iloc[:, 6:496] = scaler.fit_transform(new_df.iloc[:, 6:496])"
      ]
    },
    {
      "cell_type": "markdown",
      "source": [
        "## Density diagarams of the different variables per class"
      ],
      "metadata": {
        "id": "LdPUk7rTh-hX"
      }
    },
    {
      "cell_type": "code",
      "source": [
        "new_df.pi_cat = np.where(new_df.pi24>15,1,0)\n",
        "\n",
        "sns.kdeplot(new_df.ah, hue = new_df.pi_cat).set(title='Distribution of absolute humidity')\n",
        "plt.savefig('pics.png', dpi=300)"
      ],
      "metadata": {
        "colab": {
          "base_uri": "https://localhost:8080/",
          "height": 295
        },
        "id": "a7xrrv139ejy",
        "outputId": "93cccdd7-b2e1-40a1-e440-19f817fa3379"
      },
      "execution_count": 27,
      "outputs": [
        {
          "output_type": "display_data",
          "data": {
            "text/plain": [
              "<Figure size 432x288 with 1 Axes>"
            ],
            "image/png": "[encoded data removed]"
          },
          "metadata": {
            "needs_background": "light"
          }
        }
      ]
    },
    {
      "cell_type": "code",
      "execution_count": 5,
      "metadata": {
        "id": "Fyveu0ruZsiz"
      },
      "outputs": [],
      "source": [
        "split_index = round(new_df.shape[0] * 0.8)\n",
        "\n",
        "test = new_df[split_index:]\n",
        "new_df = new_df[:split_index]"
      ]
    },
    {
      "cell_type": "markdown",
      "metadata": {
        "id": "nEM9vqZWDFjq"
      },
      "source": [
        "# KNN"
      ]
    },
    {
      "cell_type": "code",
      "execution_count": 30,
      "metadata": {
        "colab": {
          "base_uri": "https://localhost:8080/"
        },
        "id": "0VNsZiZGY5C4",
        "outputId": "11d10344-a758-41e8-8148-34025096e90a"
      },
      "outputs": [
        {
          "output_type": "execute_result",
          "data": {
            "text/plain": [
              "KNeighborsClassifier(metric='cosine', n_jobs=-1, n_neighbors=1)"
            ]
          },
          "metadata": {},
          "execution_count": 30
        }
      ],
      "source": [
        "KNN = KNeighborsClassifier(n_neighbors=1, metric='cosine', n_jobs=-1)\n",
        "\n",
        "KNN.fit(X = new_df.iloc[:, [6,7,8,9,12,14,15,\n",
        "                            36,37,38,39,42,44,45,\n",
        "                            66,67,68,69,72,74,75,\n",
        "                            96,97,98,99,102,104,105]], y = new_df.loc[:, 'pi_cat'])"
      ]
    },
    {
      "cell_type": "code",
      "execution_count": 31,
      "metadata": {
        "id": "Ci5JcaDZdAwI"
      },
      "outputs": [],
      "source": [
        "preds = KNN.predict(test.iloc[:, [6,7,8,9,12,14,15,\n",
        "                            36,37,38,39,42,44,45,\n",
        "                            66,67,68,69,72,74,75,\n",
        "                            96,97,98,99,102,104,105]])"
      ]
    },
    {
      "cell_type": "code",
      "execution_count": 32,
      "metadata": {
        "colab": {
          "base_uri": "https://localhost:8080/"
        },
        "id": "rDSGNaMmeChb",
        "outputId": "52869112-7bb0-44c3-9d0c-08956cf6c448"
      },
      "outputs": [
        {
          "output_type": "execute_result",
          "data": {
            "text/plain": [
              "array([[33592,   568],\n",
              "       [  650,   156]])"
            ]
          },
          "metadata": {},
          "execution_count": 32
        }
      ],
      "source": [
        "confusion_matrix(test.loc[:, 'pi_cat'], preds)"
      ]
    },
    {
      "cell_type": "code",
      "execution_count": 29,
      "metadata": {
        "colab": {
          "base_uri": "https://localhost:8080/",
          "height": 279
        },
        "id": "6Y4vkmriFCoM",
        "outputId": "b922c25f-1dc5-477d-ae2b-cefbaa516391"
      },
      "outputs": [
        {
          "output_type": "display_data",
          "data": {
            "text/plain": [
              "<Figure size 432x288 with 1 Axes>"
            ],
            "image/png": "[encoded data removed]"
          },
          "metadata": {
            "needs_background": "light"
          }
        }
      ],
      "source": [
        "RocCurveDisplay.from_predictions(test.loc[:, 'pi_cat'], KNN_proba[:,1])\n",
        "plt.show()"
      ]
    },
    {
      "cell_type": "code",
      "source": [
        "f1_score(test.loc[:, 'pi_cat'], preds)"
      ],
      "metadata": {
        "colab": {
          "base_uri": "https://localhost:8080/"
        },
        "id": "0q_laO-X0vtY",
        "outputId": "941ca11c-08e7-4efa-9738-6cb77aad18bb"
      },
      "execution_count": 34,
      "outputs": [
        {
          "output_type": "execute_result",
          "data": {
            "text/plain": [
              "0.203921568627451"
            ]
          },
          "metadata": {},
          "execution_count": 34
        }
      ]
    },
    {
      "cell_type": "code",
      "source": [
        "accuracy_score(test.loc[:, 'pi_cat'], preds)"
      ],
      "metadata": {
        "colab": {
          "base_uri": "https://localhost:8080/"
        },
        "id": "NqpoSik201Po",
        "outputId": "8965718f-c4e9-4099-ac67-a41fbe09c471"
      },
      "execution_count": 35,
      "outputs": [
        {
          "output_type": "execute_result",
          "data": {
            "text/plain": [
              "0.965166161413945"
            ]
          },
          "metadata": {},
          "execution_count": 35
        }
      ]
    },
    {
      "cell_type": "markdown",
      "metadata": {
        "id": "kM69QAZ5pjbL"
      },
      "source": [
        "# Random Forest"
      ]
    },
    {
      "cell_type": "code",
      "execution_count": 32,
      "metadata": {
        "colab": {
          "base_uri": "https://localhost:8080/"
        },
        "id": "XwWYg3YSplQE",
        "outputId": "9ab92b46-1c98-4eaf-c8a4-f81d1bee0715"
      },
      "outputs": [
        {
          "output_type": "execute_result",
          "data": {
            "text/plain": [
              "RandomForestClassifier(n_jobs=-1)"
            ]
          },
          "metadata": {},
          "execution_count": 32
        }
      ],
      "source": [
        "RF = RandomForestClassifier(n_jobs= -1, class_weight=None)\n",
        "\n",
        "RF.fit(X = new_df.iloc[:, [6,7,8,9,12,14,15,\n",
        "                            36,37,38,39,42,44,45,\n",
        "                            66,67,68,69,72,74,75,\n",
        "                            96,97,98,99,102,104,105]], y = new_df.loc[:, 'pi_cat'])"
      ]
    },
    {
      "cell_type": "code",
      "execution_count": 33,
      "metadata": {
        "colab": {
          "base_uri": "https://localhost:8080/"
        },
        "id": "XYYfLbsn_TUl",
        "outputId": "ad271a72-f82b-4a38-8001-ec41558fa785"
      },
      "outputs": [
        {
          "output_type": "execute_result",
          "data": {
            "text/plain": [
              "array([0.03296648, 0.04533133, 0.02566575, 0.03947096, 0.03668185,\n",
              "       0.05097841, 0.08610517, 0.0305635 , 0.03925548, 0.02727915,\n",
              "       0.03714582, 0.03189721, 0.03946026, 0.02434697, 0.03021725,\n",
              "       0.03872472, 0.02634849, 0.037115  , 0.03181658, 0.03909657,\n",
              "       0.01870401, 0.03277878, 0.03920642, 0.02788788, 0.03591508,\n",
              "       0.03526284, 0.04245813, 0.0173199 ])"
            ]
          },
          "metadata": {},
          "execution_count": 33
        }
      ],
      "source": [
        "RF.feature_importances_"
      ]
    },
    {
      "cell_type": "code",
      "execution_count": 34,
      "metadata": {
        "id": "XzbX-v1Sx0sn"
      },
      "outputs": [],
      "source": [
        "RF_preds = RF.predict(test.iloc[:, [6,7,8,9,12,14,15,\n",
        "                            36,37,38,39,42,44,45,\n",
        "                            66,67,68,69,72,74,75,\n",
        "                            96,97,98,99,102,104,105]])\n",
        "RF_proba = RF.predict_proba(test.iloc[:, [6,7,8,9,12,14,15,\n",
        "                            36,37,38,39,42,44,45,\n",
        "                            66,67,68,69,72,74,75,\n",
        "                            96,97,98,99,102,104,105]])\n"
      ]
    },
    {
      "cell_type": "code",
      "execution_count": 46,
      "metadata": {
        "colab": {
          "base_uri": "https://localhost:8080/",
          "height": 279
        },
        "id": "V2LSifVxErdV",
        "outputId": "104c6c61-40c3-4376-b0c1-38df6465a66d"
      },
      "outputs": [
        {
          "output_type": "display_data",
          "data": {
            "text/plain": [
              "<Figure size 432x288 with 1 Axes>"
            ],
            "image/png": "[encoded data removed]"
          },
          "metadata": {
            "needs_background": "light"
          }
        }
      ],
      "source": [
        "RocCurveDisplay.from_predictions(test.loc[:, 'pi_cat'], RF_proba[:,1])\n",
        "plt.savefig('rf_roc.png', dpi=300)"
      ]
    },
    {
      "cell_type": "code",
      "execution_count": 47,
      "metadata": {
        "colab": {
          "base_uri": "https://localhost:8080/"
        },
        "id": "I0cyb2bL3Lai",
        "outputId": "1dde4085-c39d-463c-fa52-bc08cfcd8375"
      },
      "outputs": [
        {
          "output_type": "execute_result",
          "data": {
            "text/plain": [
              "array([[34119,    41],\n",
              "       [  702,   104]])"
            ]
          },
          "metadata": {},
          "execution_count": 47
        }
      ],
      "source": [
        "confusion_matrix(test.loc[:, 'pi_cat'], RF_preds)"
      ]
    },
    {
      "cell_type": "code",
      "source": [
        "f1_score(test.loc[:, 'pi_cat'], RF_preds)\n",
        "# accuracy_score(test.loc[:, 'pi_cat'], RF_preds)"
      ],
      "metadata": {
        "colab": {
          "base_uri": "https://localhost:8080/"
        },
        "id": "IHZASm0X3VbU",
        "outputId": "23370642-9047-45c8-fc54-c63c153fa277"
      },
      "execution_count": 48,
      "outputs": [
        {
          "output_type": "execute_result",
          "data": {
            "text/plain": [
              "0.21871713985278654"
            ]
          },
          "metadata": {},
          "execution_count": 48
        }
      ]
    },
    {
      "cell_type": "markdown",
      "metadata": {
        "id": "JUgssqBNzHg8"
      },
      "source": [
        "# LightGBM"
      ]
    },
    {
      "cell_type": "code",
      "execution_count": null,
      "metadata": {
        "colab": {
          "background_save": true,
          "base_uri": "https://localhost:8080/"
        },
        "id": "K52r5_9szodR",
        "outputId": "40e714be-514b-486c-d456-57bb473802ee"
      },
      "outputs": [
        {
          "name": "stderr",
          "output_type": "stream",
          "text": [
            "/usr/local/lib/python3.8/dist-packages/joblib/externals/loky/process_executor.py:700: UserWarning: A worker stopped while some jobs were given to the executor. This can be caused by a too short worker timeout or by a memory leak.\n",
            "  warnings.warn(\n"
          ]
        }
      ],
      "source": [
        "parameters = {'boosting_type':['dart'], \n",
        "              'learning_rate':[.3,.4,.5, .6],\n",
        "              'n_jobs': [-1],\n",
        "              'class_weight': ['balanced']}\n",
        "\n",
        "lgbmc = LGBMClassifier()\n",
        "\n",
        "clf = GridSearchCV(lgbmc, \n",
        "                   parameters, \n",
        "                   scoring= 'f1',\n",
        "                   n_jobs=-1)\n",
        "\n",
        "lgbm_fit = clf.fit(X = new_df.iloc[:, 6:106], y = new_df.loc[:, 'pi_cat'])"
      ]
    },
    {
      "cell_type": "code",
      "execution_count": null,
      "metadata": {
        "colab": {
          "base_uri": "https://localhost:8080/",
          "height": 173
        },
        "id": "DXdCvEJdM9Ov",
        "outputId": "57522163-14bf-44ce-d5b3-d55f8970ee55"
      },
      "outputs": [
        {
          "data": {
            "text/html": [
              "\n",
              "  <div id=\"df-35fd8ce4-8b97-4a55-835f-d25bcac7e40f\">\n",
              "    <div class=\"colab-df-container\">\n",
              "      <div>\n",
              "<style scoped>\n",
              "    .dataframe tbody tr th:only-of-type {\n",
              "        vertical-align: middle;\n",
              "    }\n",
              "\n",
              "    .dataframe tbody tr th {\n",
              "        vertical-align: top;\n",
              "    }\n",
              "\n",
              "    .dataframe thead th {\n",
              "        text-align: right;\n",
              "    }\n",
              "</style>\n",
              "<table border=\"1\" class=\"dataframe\">\n",
              "  <thead>\n",
              "    <tr style=\"text-align: right;\">\n",
              "      <th></th>\n",
              "      <th>params</th>\n",
              "      <th>mean_test_score</th>\n",
              "      <th>rank_test_score</th>\n",
              "    </tr>\n",
              "  </thead>\n",
              "  <tbody>\n",
              "    <tr>\n",
              "      <th>0</th>\n",
              "      <td>{'boosting_type': 'dart', 'class_weight': 'bal...</td>\n",
              "      <td>0.197674</td>\n",
              "      <td>1</td>\n",
              "    </tr>\n",
              "    <tr>\n",
              "      <th>1</th>\n",
              "      <td>{'boosting_type': 'dart', 'class_weight': 'bal...</td>\n",
              "      <td>0.195776</td>\n",
              "      <td>2</td>\n",
              "    </tr>\n",
              "    <tr>\n",
              "      <th>3</th>\n",
              "      <td>{'boosting_type': 'dart', 'class_weight': 'bal...</td>\n",
              "      <td>0.178179</td>\n",
              "      <td>3</td>\n",
              "    </tr>\n",
              "    <tr>\n",
              "      <th>2</th>\n",
              "      <td>{'boosting_type': 'dart', 'class_weight': 'bal...</td>\n",
              "      <td>0.169292</td>\n",
              "      <td>4</td>\n",
              "    </tr>\n",
              "  </tbody>\n",
              "</table>\n",
              "</div>\n",
              "      <button class=\"colab-df-convert\" onclick=\"convertToInteractive('df-35fd8ce4-8b97-4a55-835f-d25bcac7e40f')\"\n",
              "              title=\"Convert this dataframe to an interactive table.\"\n",
              "              style=\"display:none;\">\n",
              "        \n",
              "  <svg xmlns=\"http://www.w3.org/2000/svg\" height=\"24px\"viewBox=\"0 0 24 24\"\n",
              "       width=\"24px\">\n",
              "    <path d=\"M0 0h24v24H0V0z\" fill=\"none\"/>\n",
              "    <path d=\"M18.56 5.44l.94 2.06.94-2.06 2.06-.94-2.06-.94-.94-2.06-.94 2.06-2.06.94zm-11 1L8.5 8.5l.94-2.06 2.06-.94-2.06-.94L8.5 2.5l-.94 2.06-2.06.94zm10 10l.94 2.06.94-2.06 2.06-.94-2.06-.94-.94-2.06-.94 2.06-2.06.94z\"/><path d=\"M17.41 7.96l-1.37-1.37c-.4-.4-.92-.59-1.43-.59-.52 0-1.04.2-1.43.59L10.3 9.45l-7.72 7.72c-.78.78-.78 2.05 0 2.83L4 21.41c.39.39.9.59 1.41.59.51 0 1.02-.2 1.41-.59l7.78-7.78 2.81-2.81c.8-.78.8-2.07 0-2.86zM5.41 20L4 18.59l7.72-7.72 1.47 1.35L5.41 20z\"/>\n",
              "  </svg>\n",
              "      </button>\n",
              "      \n",
              "  <style>\n",
              "    .colab-df-container {\n",
              "      display:flex;\n",
              "      flex-wrap:wrap;\n",
              "      gap: 12px;\n",
              "    }\n",
              "\n",
              "    .colab-df-convert {\n",
              "      background-color: #E8F0FE;\n",
              "      border: none;\n",
              "      border-radius: 50%;\n",
              "      cursor: pointer;\n",
              "      display: none;\n",
              "      fill: #1967D2;\n",
              "      height: 32px;\n",
              "      padding: 0 0 0 0;\n",
              "      width: 32px;\n",
              "    }\n",
              "\n",
              "    .colab-df-convert:hover {\n",
              "      background-color: #E2EBFA;\n",
              "      box-shadow: 0px 1px 2px rgba(60, 64, 67, 0.3), 0px 1px 3px 1px rgba(60, 64, 67, 0.15);\n",
              "      fill: #174EA6;\n",
              "    }\n",
              "\n",
              "    [theme=dark] .colab-df-convert {\n",
              "      background-color: #3B4455;\n",
              "      fill: #D2E3FC;\n",
              "    }\n",
              "\n",
              "    [theme=dark] .colab-df-convert:hover {\n",
              "      background-color: #434B5C;\n",
              "      box-shadow: 0px 1px 3px 1px rgba(0, 0, 0, 0.15);\n",
              "      filter: drop-shadow(0px 1px 2px rgba(0, 0, 0, 0.3));\n",
              "      fill: #FFFFFF;\n",
              "    }\n",
              "  </style>\n",
              "\n",
              "      <script>\n",
              "        const buttonEl =\n",
              "          document.querySelector('#df-35fd8ce4-8b97-4a55-835f-d25bcac7e40f button.colab-df-convert');\n",
              "        buttonEl.style.display =\n",
              "          google.colab.kernel.accessAllowed ? 'block' : 'none';\n",
              "\n",
              "        async function convertToInteractive(key) {\n",
              "          const element = document.querySelector('#df-35fd8ce4-8b97-4a55-835f-d25bcac7e40f');\n",
              "          const dataTable =\n",
              "            await google.colab.kernel.invokeFunction('convertToInteractive',\n",
              "                                                     [key], {});\n",
              "          if (!dataTable) return;\n",
              "\n",
              "          const docLinkHtml = 'Like what you see? Visit the ' +\n",
              "            '<a target=\"_blank\" href=https://colab.research.google.com/notebooks/data_table.ipynb>data table notebook</a>'\n",
              "            + ' to learn more about interactive tables.';\n",
              "          element.innerHTML = '';\n",
              "          dataTable['output_type'] = 'display_data';\n",
              "          await google.colab.output.renderOutput(dataTable, element);\n",
              "          const docLink = document.createElement('div');\n",
              "          docLink.innerHTML = docLinkHtml;\n",
              "          element.appendChild(docLink);\n",
              "        }\n",
              "      </script>\n",
              "    </div>\n",
              "  </div>\n",
              "  "
            ],
            "text/plain": [
              "                                              params  mean_test_score  \\\n",
              "0  {'boosting_type': 'dart', 'class_weight': 'bal...         0.197674   \n",
              "1  {'boosting_type': 'dart', 'class_weight': 'bal...         0.195776   \n",
              "3  {'boosting_type': 'dart', 'class_weight': 'bal...         0.178179   \n",
              "2  {'boosting_type': 'dart', 'class_weight': 'bal...         0.169292   \n",
              "\n",
              "   rank_test_score  \n",
              "0                1  \n",
              "1                2  \n",
              "3                3  \n",
              "2                4  "
            ]
          },
          "execution_count": 192,
          "metadata": {},
          "output_type": "execute_result"
        }
      ],
      "source": [
        "pd.DataFrame(lgbm_fit.cv_results_)[['params','mean_test_score','rank_test_score']].sort_values('rank_test_score').head(10)"
      ]
    },
    {
      "cell_type": "code",
      "execution_count": 113,
      "metadata": {
        "colab": {
          "base_uri": "https://localhost:8080/"
        },
        "id": "OGoLt0gsR2HJ",
        "outputId": "c8a6a13b-502d-41d7-8aaa-bd80913edd85"
      },
      "outputs": [
        {
          "output_type": "execute_result",
          "data": {
            "text/plain": [
              "LGBMClassifier(boosting_type='dart', class_weight='balanced', learning_rate=0.4)"
            ]
          },
          "metadata": {},
          "execution_count": 113
        }
      ],
      "source": [
        "lgbmc = LGBMClassifier(boosting_type='dart', learning_rate=.4, n_jobs=-1, class_weight='balanced')\n",
        "\n",
        "lgbmc.fit(X = new_df.iloc[:, [6,7,8,9,12,14,15,\n",
        "                            36,37,38,39,42,44,45,\n",
        "                            66,67,68,69,72,74,75,\n",
        "                            96,97,98,99,102,104,105]], y = new_df.loc[:, 'pi_cat'])"
      ]
    },
    {
      "cell_type": "code",
      "execution_count": 114,
      "metadata": {
        "id": "x6jZdUTjAy0C"
      },
      "outputs": [],
      "source": [
        "LG_preds = lgbmc.predict(test.iloc[:, [6,7,8,9,12,14,15,\n",
        "                            36,37,38,39,42,44,45,\n",
        "                            66,67,68,69,72,74,75,\n",
        "                            96,97,98,99,102,104,105]])"
      ]
    },
    {
      "cell_type": "code",
      "execution_count": 115,
      "metadata": {
        "id": "aevAWGSuDpto"
      },
      "outputs": [],
      "source": [
        "LG_proba = lgbmc.predict_proba(test.iloc[:, [6,7,8,9,12,14,15,\n",
        "                            36,37,38,39,42,44,45,\n",
        "                            66,67,68,69,72,74,75,\n",
        "                            96,97,98,99,102,104,105]])"
      ]
    },
    {
      "cell_type": "code",
      "execution_count": 116,
      "metadata": {
        "colab": {
          "base_uri": "https://localhost:8080/"
        },
        "id": "wnJz1ew_Sl0t",
        "outputId": "c41cded5-7938-4bdb-83bb-433e2c6596e3"
      },
      "outputs": [
        {
          "output_type": "execute_result",
          "data": {
            "text/plain": [
              "array([[32598,  1562],\n",
              "       [  464,   342]])"
            ]
          },
          "metadata": {},
          "execution_count": 116
        }
      ],
      "source": [
        "confusion_matrix(test.loc[:, 'pi_cat'], LG_preds)"
      ]
    },
    {
      "cell_type": "code",
      "source": [
        "f1_score(test.loc[:, 'pi_cat'], LG_preds)"
      ],
      "metadata": {
        "colab": {
          "base_uri": "https://localhost:8080/"
        },
        "id": "u4nyTDed-Fvl",
        "outputId": "aa7583c6-7f72-45bc-ac87-376a771424bb"
      },
      "execution_count": 117,
      "outputs": [
        {
          "output_type": "execute_result",
          "data": {
            "text/plain": [
              "0.2523985239852399"
            ]
          },
          "metadata": {},
          "execution_count": 117
        }
      ]
    },
    {
      "cell_type": "code",
      "source": [
        "RocCurveDisplay.from_predictions(test.loc[:, 'pi_cat'], LG_proba[:,1])\n",
        "plt.savefig('lgbm_roc.png', dpi=300)"
      ],
      "metadata": {
        "colab": {
          "base_uri": "https://localhost:8080/",
          "height": 279
        },
        "id": "TI32CDY0-Sge",
        "outputId": "b69060a6-47b7-4a5a-aeed-5228861e7099"
      },
      "execution_count": 119,
      "outputs": [
        {
          "output_type": "display_data",
          "data": {
            "text/plain": [
              "<Figure size 432x288 with 1 Axes>"
            ],
            "image/png": "[encoded data removed]"
          },
          "metadata": {
            "needs_background": "light"
          }
        }
      ]
    },
    {
      "cell_type": "markdown",
      "source": [
        "# GRU"
      ],
      "metadata": {
        "id": "HZroNoVglr7L"
      }
    },
    {
      "cell_type": "code",
      "source": [
        "X = np.array(new_df.iloc[:, [6,7,8,9,12,14,15,\n",
        "                            36,37,38,39,42,44,45,\n",
        "                            66,67,68,69,72,74,75,\n",
        "                            96,97,98,99,102,104,105]]).reshape(new_df.shape[0],-1, 7)\n",
        "y = np.array(new_df['pi_cat'])"
      ],
      "metadata": {
        "id": "TC30ZPLmqxsh"
      },
      "execution_count": 6,
      "outputs": []
    },
    {
      "cell_type": "code",
      "source": [
        "X_test = np.array(test.iloc[:, [6,7,8,9,12,14,15,\n",
        "                            36,37,38,39,42,44,45,\n",
        "                            66,67,68,69,72,74,75,\n",
        "                            96,97,98,99,102,104,105]]).reshape(test.shape[0],-1,7)\n",
        "y_test = np.array(test['pi_cat'])"
      ],
      "metadata": {
        "id": "EiatMQCD0JDF"
      },
      "execution_count": 7,
      "outputs": []
    },
    {
      "cell_type": "code",
      "source": [
        "class_weights = {0: 1., 1: 70.}\n",
        "grumod = Sequential()\n",
        "\n",
        "grumod.add(LSTM(units = 10, return_sequences = True, input_shape = (4, 7)))\n",
        "grumod.add(Dropout(0.2))\n",
        "\n",
        "grumod.add(LSTM(units = 3, return_sequences = False))\n",
        "grumod.add(Dropout(0.2))\n",
        "\n",
        "grumod.add(Dense(units = 1, activation='sigmoid'))\n",
        "\n",
        "grumod.compile(optimizer = 'adam', loss = 'binary_crossentropy')\n",
        "\n",
        "history = grumod.fit(X, new_df.pi_cat, validation_data=(X_test,test.pi_cat), epochs = 50, batch_size = 512, class_weight = class_weights)"
      ],
      "metadata": {
        "colab": {
          "base_uri": "https://localhost:8080/",
          "height": 1000
        },
        "id": "3p0bfpyhlq0H",
        "outputId": "efdb12c7-cbf3-4266-9c19-bc1a174c9601"
      },
      "execution_count": 14,
      "outputs": [
        {
          "output_type": "stream",
          "name": "stdout",
          "text": [
            "Epoch 1/50\n",
            "274/274 [==============================] - 5s 9ms/step - loss: 1.1967 - val_loss: 0.5978\n",
            "Epoch 2/50\n",
            "274/274 [==============================] - 2s 6ms/step - loss: 0.9432 - val_loss: 0.5298\n",
            "Epoch 3/50\n",
            "274/274 [==============================] - 2s 7ms/step - loss: 0.8743 - val_loss: 0.4744\n",
            "Epoch 4/50\n",
            "274/274 [==============================] - 2s 7ms/step - loss: 0.8502 - val_loss: 0.4661\n",
            "Epoch 5/50\n",
            "274/274 [==============================] - 2s 6ms/step - loss: 0.8218 - val_loss: 0.4872\n",
            "Epoch 6/50\n",
            "274/274 [==============================] - 2s 6ms/step - loss: 0.8093 - val_loss: 0.4547\n",
            "Epoch 7/50\n",
            "274/274 [==============================] - 2s 6ms/step - loss: 0.7864 - val_loss: 0.4656\n",
            "Epoch 8/50\n",
            "274/274 [==============================] - 2s 6ms/step - loss: 0.7792 - val_loss: 0.4708\n",
            "Epoch 9/50\n",
            "274/274 [==============================] - 2s 7ms/step - loss: 0.7726 - val_loss: 0.4758\n",
            "Epoch 10/50\n",
            "274/274 [==============================] - 2s 6ms/step - loss: 0.7659 - val_loss: 0.4661\n",
            "Epoch 11/50\n",
            "274/274 [==============================] - 2s 6ms/step - loss: 0.7533 - val_loss: 0.4473\n",
            "Epoch 12/50\n",
            "274/274 [==============================] - 2s 6ms/step - loss: 0.7506 - val_loss: 0.4607\n",
            "Epoch 13/50\n",
            "274/274 [==============================] - 2s 7ms/step - loss: 0.7382 - val_loss: 0.4728\n",
            "Epoch 14/50\n",
            "274/274 [==============================] - 2s 7ms/step - loss: 0.7376 - val_loss: 0.4628\n",
            "Epoch 15/50\n",
            "274/274 [==============================] - 2s 7ms/step - loss: 0.7336 - val_loss: 0.4708\n",
            "Epoch 16/50\n",
            "274/274 [==============================] - 2s 7ms/step - loss: 0.7265 - val_loss: 0.4541\n",
            "Epoch 17/50\n",
            "274/274 [==============================] - 2s 7ms/step - loss: 0.7232 - val_loss: 0.4617\n",
            "Epoch 18/50\n",
            "274/274 [==============================] - 2s 7ms/step - loss: 0.7139 - val_loss: 0.4569\n",
            "Epoch 19/50\n",
            "274/274 [==============================] - 2s 7ms/step - loss: 0.7123 - val_loss: 0.4045\n",
            "Epoch 20/50\n",
            "274/274 [==============================] - 2s 7ms/step - loss: 0.7091 - val_loss: 0.4390\n",
            "Epoch 21/50\n",
            "274/274 [==============================] - 2s 7ms/step - loss: 0.7124 - val_loss: 0.4701\n",
            "Epoch 22/50\n",
            "274/274 [==============================] - 2s 7ms/step - loss: 0.7017 - val_loss: 0.4170\n",
            "Epoch 23/50\n",
            "274/274 [==============================] - 2s 6ms/step - loss: 0.6890 - val_loss: 0.4365\n",
            "Epoch 24/50\n",
            "274/274 [==============================] - 2s 7ms/step - loss: 0.6933 - val_loss: 0.4359\n",
            "Epoch 25/50\n",
            "274/274 [==============================] - 2s 6ms/step - loss: 0.6868 - val_loss: 0.4263\n",
            "Epoch 26/50\n",
            "274/274 [==============================] - 2s 7ms/step - loss: 0.7006 - val_loss: 0.4319\n",
            "Epoch 27/50\n",
            "274/274 [==============================] - 2s 7ms/step - loss: 0.6860 - val_loss: 0.4188\n",
            "Epoch 28/50\n",
            "274/274 [==============================] - 2s 6ms/step - loss: 0.6756 - val_loss: 0.4233\n",
            "Epoch 29/50\n",
            "274/274 [==============================] - 2s 6ms/step - loss: 0.6813 - val_loss: 0.4309\n",
            "Epoch 30/50\n",
            "274/274 [==============================] - 2s 6ms/step - loss: 0.6772 - val_loss: 0.4480\n",
            "Epoch 31/50\n",
            "274/274 [==============================] - 2s 7ms/step - loss: 0.6714 - val_loss: 0.4287\n",
            "Epoch 32/50\n",
            "274/274 [==============================] - 2s 6ms/step - loss: 0.6680 - val_loss: 0.4386\n",
            "Epoch 33/50\n",
            "274/274 [==============================] - 2s 7ms/step - loss: 0.6625 - val_loss: 0.4435\n",
            "Epoch 34/50\n",
            "274/274 [==============================] - 2s 7ms/step - loss: 0.6584 - val_loss: 0.4509\n",
            "Epoch 35/50\n",
            "274/274 [==============================] - 2s 7ms/step - loss: 0.6639 - val_loss: 0.4410\n",
            "Epoch 36/50\n",
            "274/274 [==============================] - 2s 6ms/step - loss: 0.6465 - val_loss: 0.4170\n",
            "Epoch 37/50\n",
            "274/274 [==============================] - 2s 7ms/step - loss: 0.6616 - val_loss: 0.4418\n",
            "Epoch 38/50\n",
            "274/274 [==============================] - 2s 6ms/step - loss: 0.6448 - val_loss: 0.4077\n",
            "Epoch 39/50\n",
            "274/274 [==============================] - 2s 7ms/step - loss: 0.6456 - val_loss: 0.4231\n",
            "Epoch 40/50\n",
            "274/274 [==============================] - 2s 7ms/step - loss: 0.6442 - val_loss: 0.4277\n",
            "Epoch 41/50\n",
            "274/274 [==============================] - 2s 6ms/step - loss: 0.6421 - val_loss: 0.3936\n",
            "Epoch 42/50\n",
            "274/274 [==============================] - 2s 7ms/step - loss: 0.6403 - val_loss: 0.4218\n",
            "Epoch 43/50\n",
            " 47/274 [====>.........................] - ETA: 1s - loss: 0.6502"
          ]
        },
        {
          "output_type": "error",
          "ename": "KeyboardInterrupt",
          "evalue": "ignored",
          "traceback": [
            "\u001b[0;31m---------------------------------------------------------------------------\u001b[0m",
            "\u001b[0;31mKeyboardInterrupt\u001b[0m                         Traceback (most recent call last)",
            "\u001b[0;32m<ipython-input-14-cc4522daee6e>\u001b[0m in \u001b[0;36m<module>\u001b[0;34m\u001b[0m\n\u001b[1;32m     12\u001b[0m \u001b[0mgrumod\u001b[0m\u001b[0;34m.\u001b[0m\u001b[0mcompile\u001b[0m\u001b[0;34m(\u001b[0m\u001b[0moptimizer\u001b[0m \u001b[0;34m=\u001b[0m \u001b[0;34m'adam'\u001b[0m\u001b[0;34m,\u001b[0m \u001b[0mloss\u001b[0m \u001b[0;34m=\u001b[0m \u001b[0;34m'binary_crossentropy'\u001b[0m\u001b[0;34m)\u001b[0m\u001b[0;34m\u001b[0m\u001b[0;34m\u001b[0m\u001b[0m\n\u001b[1;32m     13\u001b[0m \u001b[0;34m\u001b[0m\u001b[0m\n\u001b[0;32m---> 14\u001b[0;31m \u001b[0mhistory\u001b[0m \u001b[0;34m=\u001b[0m \u001b[0mgrumod\u001b[0m\u001b[0;34m.\u001b[0m\u001b[0mfit\u001b[0m\u001b[0;34m(\u001b[0m\u001b[0mX\u001b[0m\u001b[0;34m,\u001b[0m \u001b[0mnew_df\u001b[0m\u001b[0;34m.\u001b[0m\u001b[0mpi_cat\u001b[0m\u001b[0;34m,\u001b[0m \u001b[0mvalidation_data\u001b[0m\u001b[0;34m=\u001b[0m\u001b[0;34m(\u001b[0m\u001b[0mX_test\u001b[0m\u001b[0;34m,\u001b[0m\u001b[0mtest\u001b[0m\u001b[0;34m.\u001b[0m\u001b[0mpi_cat\u001b[0m\u001b[0;34m)\u001b[0m\u001b[0;34m,\u001b[0m \u001b[0mepochs\u001b[0m \u001b[0;34m=\u001b[0m \u001b[0;36m50\u001b[0m\u001b[0;34m,\u001b[0m \u001b[0mbatch_size\u001b[0m \u001b[0;34m=\u001b[0m \u001b[0;36m512\u001b[0m\u001b[0;34m,\u001b[0m \u001b[0mclass_weight\u001b[0m \u001b[0;34m=\u001b[0m \u001b[0mclass_weights\u001b[0m\u001b[0;34m)\u001b[0m\u001b[0;34m\u001b[0m\u001b[0;34m\u001b[0m\u001b[0m\n\u001b[0m",
            "\u001b[0;32m/usr/local/lib/python3.8/dist-packages/keras/utils/traceback_utils.py\u001b[0m in \u001b[0;36merror_handler\u001b[0;34m(*args, **kwargs)\u001b[0m\n\u001b[1;32m     62\u001b[0m     \u001b[0mfiltered_tb\u001b[0m \u001b[0;34m=\u001b[0m \u001b[0;32mNone\u001b[0m\u001b[0;34m\u001b[0m\u001b[0;34m\u001b[0m\u001b[0m\n\u001b[1;32m     63\u001b[0m     \u001b[0;32mtry\u001b[0m\u001b[0;34m:\u001b[0m\u001b[0;34m\u001b[0m\u001b[0;34m\u001b[0m\u001b[0m\n\u001b[0;32m---> 64\u001b[0;31m       \u001b[0;32mreturn\u001b[0m \u001b[0mfn\u001b[0m\u001b[0;34m(\u001b[0m\u001b[0;34m*\u001b[0m\u001b[0margs\u001b[0m\u001b[0;34m,\u001b[0m \u001b[0;34m**\u001b[0m\u001b[0mkwargs\u001b[0m\u001b[0;34m)\u001b[0m\u001b[0;34m\u001b[0m\u001b[0;34m\u001b[0m\u001b[0m\n\u001b[0m\u001b[1;32m     65\u001b[0m     \u001b[0;32mexcept\u001b[0m \u001b[0mException\u001b[0m \u001b[0;32mas\u001b[0m \u001b[0me\u001b[0m\u001b[0;34m:\u001b[0m  \u001b[0;31m# pylint: disable=broad-except\u001b[0m\u001b[0;34m\u001b[0m\u001b[0;34m\u001b[0m\u001b[0m\n\u001b[1;32m     66\u001b[0m       \u001b[0mfiltered_tb\u001b[0m \u001b[0;34m=\u001b[0m \u001b[0m_process_traceback_frames\u001b[0m\u001b[0;34m(\u001b[0m\u001b[0me\u001b[0m\u001b[0;34m.\u001b[0m\u001b[0m__traceback__\u001b[0m\u001b[0;34m)\u001b[0m\u001b[0;34m\u001b[0m\u001b[0;34m\u001b[0m\u001b[0m\n",
            "\u001b[0;32m/usr/local/lib/python3.8/dist-packages/keras/engine/training.py\u001b[0m in \u001b[0;36mfit\u001b[0;34m(self, x, y, batch_size, epochs, verbose, callbacks, validation_split, validation_data, shuffle, class_weight, sample_weight, initial_epoch, steps_per_epoch, validation_steps, validation_batch_size, validation_freq, max_queue_size, workers, use_multiprocessing)\u001b[0m\n\u001b[1;32m   1407\u001b[0m                 _r=1):\n\u001b[1;32m   1408\u001b[0m               \u001b[0mcallbacks\u001b[0m\u001b[0;34m.\u001b[0m\u001b[0mon_train_batch_begin\u001b[0m\u001b[0;34m(\u001b[0m\u001b[0mstep\u001b[0m\u001b[0;34m)\u001b[0m\u001b[0;34m\u001b[0m\u001b[0;34m\u001b[0m\u001b[0m\n\u001b[0;32m-> 1409\u001b[0;31m               \u001b[0mtmp_logs\u001b[0m \u001b[0;34m=\u001b[0m \u001b[0mself\u001b[0m\u001b[0;34m.\u001b[0m\u001b[0mtrain_function\u001b[0m\u001b[0;34m(\u001b[0m\u001b[0miterator\u001b[0m\u001b[0;34m)\u001b[0m\u001b[0;34m\u001b[0m\u001b[0;34m\u001b[0m\u001b[0m\n\u001b[0m\u001b[1;32m   1410\u001b[0m               \u001b[0;32mif\u001b[0m \u001b[0mdata_handler\u001b[0m\u001b[0;34m.\u001b[0m\u001b[0mshould_sync\u001b[0m\u001b[0;34m:\u001b[0m\u001b[0;34m\u001b[0m\u001b[0;34m\u001b[0m\u001b[0m\n\u001b[1;32m   1411\u001b[0m                 \u001b[0mcontext\u001b[0m\u001b[0;34m.\u001b[0m\u001b[0masync_wait\u001b[0m\u001b[0;34m(\u001b[0m\u001b[0;34m)\u001b[0m\u001b[0;34m\u001b[0m\u001b[0;34m\u001b[0m\u001b[0m\n",
            "\u001b[0;32m/usr/local/lib/python3.8/dist-packages/tensorflow/python/util/traceback_utils.py\u001b[0m in \u001b[0;36merror_handler\u001b[0;34m(*args, **kwargs)\u001b[0m\n\u001b[1;32m    148\u001b[0m     \u001b[0mfiltered_tb\u001b[0m \u001b[0;34m=\u001b[0m \u001b[0;32mNone\u001b[0m\u001b[0;34m\u001b[0m\u001b[0;34m\u001b[0m\u001b[0m\n\u001b[1;32m    149\u001b[0m     \u001b[0;32mtry\u001b[0m\u001b[0;34m:\u001b[0m\u001b[0;34m\u001b[0m\u001b[0;34m\u001b[0m\u001b[0m\n\u001b[0;32m--> 150\u001b[0;31m       \u001b[0;32mreturn\u001b[0m \u001b[0mfn\u001b[0m\u001b[0;34m(\u001b[0m\u001b[0;34m*\u001b[0m\u001b[0margs\u001b[0m\u001b[0;34m,\u001b[0m \u001b[0;34m**\u001b[0m\u001b[0mkwargs\u001b[0m\u001b[0;34m)\u001b[0m\u001b[0;34m\u001b[0m\u001b[0;34m\u001b[0m\u001b[0m\n\u001b[0m\u001b[1;32m    151\u001b[0m     \u001b[0;32mexcept\u001b[0m \u001b[0mException\u001b[0m \u001b[0;32mas\u001b[0m \u001b[0me\u001b[0m\u001b[0;34m:\u001b[0m\u001b[0;34m\u001b[0m\u001b[0;34m\u001b[0m\u001b[0m\n\u001b[1;32m    152\u001b[0m       \u001b[0mfiltered_tb\u001b[0m \u001b[0;34m=\u001b[0m \u001b[0m_process_traceback_frames\u001b[0m\u001b[0;34m(\u001b[0m\u001b[0me\u001b[0m\u001b[0;34m.\u001b[0m\u001b[0m__traceback__\u001b[0m\u001b[0;34m)\u001b[0m\u001b[0;34m\u001b[0m\u001b[0;34m\u001b[0m\u001b[0m\n",
            "\u001b[0;32m/usr/local/lib/python3.8/dist-packages/tensorflow/python/eager/def_function.py\u001b[0m in \u001b[0;36m__call__\u001b[0;34m(self, *args, **kwds)\u001b[0m\n\u001b[1;32m    913\u001b[0m \u001b[0;34m\u001b[0m\u001b[0m\n\u001b[1;32m    914\u001b[0m       \u001b[0;32mwith\u001b[0m \u001b[0mOptionalXlaContext\u001b[0m\u001b[0;34m(\u001b[0m\u001b[0mself\u001b[0m\u001b[0;34m.\u001b[0m\u001b[0m_jit_compile\u001b[0m\u001b[0;34m)\u001b[0m\u001b[0;34m:\u001b[0m\u001b[0;34m\u001b[0m\u001b[0;34m\u001b[0m\u001b[0m\n\u001b[0;32m--> 915\u001b[0;31m         \u001b[0mresult\u001b[0m \u001b[0;34m=\u001b[0m \u001b[0mself\u001b[0m\u001b[0;34m.\u001b[0m\u001b[0m_call\u001b[0m\u001b[0;34m(\u001b[0m\u001b[0;34m*\u001b[0m\u001b[0margs\u001b[0m\u001b[0;34m,\u001b[0m \u001b[0;34m**\u001b[0m\u001b[0mkwds\u001b[0m\u001b[0;34m)\u001b[0m\u001b[0;34m\u001b[0m\u001b[0;34m\u001b[0m\u001b[0m\n\u001b[0m\u001b[1;32m    916\u001b[0m \u001b[0;34m\u001b[0m\u001b[0m\n\u001b[1;32m    917\u001b[0m       \u001b[0mnew_tracing_count\u001b[0m \u001b[0;34m=\u001b[0m \u001b[0mself\u001b[0m\u001b[0;34m.\u001b[0m\u001b[0mexperimental_get_tracing_count\u001b[0m\u001b[0;34m(\u001b[0m\u001b[0;34m)\u001b[0m\u001b[0;34m\u001b[0m\u001b[0;34m\u001b[0m\u001b[0m\n",
            "\u001b[0;32m/usr/local/lib/python3.8/dist-packages/tensorflow/python/eager/def_function.py\u001b[0m in \u001b[0;36m_call\u001b[0;34m(self, *args, **kwds)\u001b[0m\n\u001b[1;32m    945\u001b[0m       \u001b[0;31m# In this case we have created variables on the first call, so we run the\u001b[0m\u001b[0;34m\u001b[0m\u001b[0;34m\u001b[0m\u001b[0;34m\u001b[0m\u001b[0m\n\u001b[1;32m    946\u001b[0m       \u001b[0;31m# defunned version which is guaranteed to never create variables.\u001b[0m\u001b[0;34m\u001b[0m\u001b[0;34m\u001b[0m\u001b[0;34m\u001b[0m\u001b[0m\n\u001b[0;32m--> 947\u001b[0;31m       \u001b[0;32mreturn\u001b[0m \u001b[0mself\u001b[0m\u001b[0;34m.\u001b[0m\u001b[0m_stateless_fn\u001b[0m\u001b[0;34m(\u001b[0m\u001b[0;34m*\u001b[0m\u001b[0margs\u001b[0m\u001b[0;34m,\u001b[0m \u001b[0;34m**\u001b[0m\u001b[0mkwds\u001b[0m\u001b[0;34m)\u001b[0m  \u001b[0;31m# pylint: disable=not-callable\u001b[0m\u001b[0;34m\u001b[0m\u001b[0;34m\u001b[0m\u001b[0m\n\u001b[0m\u001b[1;32m    948\u001b[0m     \u001b[0;32melif\u001b[0m \u001b[0mself\u001b[0m\u001b[0;34m.\u001b[0m\u001b[0m_stateful_fn\u001b[0m \u001b[0;32mis\u001b[0m \u001b[0;32mnot\u001b[0m \u001b[0;32mNone\u001b[0m\u001b[0;34m:\u001b[0m\u001b[0;34m\u001b[0m\u001b[0;34m\u001b[0m\u001b[0m\n\u001b[1;32m    949\u001b[0m       \u001b[0;31m# Release the lock early so that multiple threads can perform the call\u001b[0m\u001b[0;34m\u001b[0m\u001b[0;34m\u001b[0m\u001b[0;34m\u001b[0m\u001b[0m\n",
            "\u001b[0;32m/usr/local/lib/python3.8/dist-packages/tensorflow/python/eager/function.py\u001b[0m in \u001b[0;36m__call__\u001b[0;34m(self, *args, **kwargs)\u001b[0m\n\u001b[1;32m   2451\u001b[0m       (graph_function,\n\u001b[1;32m   2452\u001b[0m        filtered_flat_args) = self._maybe_define_function(args, kwargs)\n\u001b[0;32m-> 2453\u001b[0;31m     return graph_function._call_flat(\n\u001b[0m\u001b[1;32m   2454\u001b[0m         filtered_flat_args, captured_inputs=graph_function.captured_inputs)  # pylint: disable=protected-access\n\u001b[1;32m   2455\u001b[0m \u001b[0;34m\u001b[0m\u001b[0m\n",
            "\u001b[0;32m/usr/local/lib/python3.8/dist-packages/tensorflow/python/eager/function.py\u001b[0m in \u001b[0;36m_call_flat\u001b[0;34m(self, args, captured_inputs, cancellation_manager)\u001b[0m\n\u001b[1;32m   1858\u001b[0m         and executing_eagerly):\n\u001b[1;32m   1859\u001b[0m       \u001b[0;31m# No tape is watching; skip to running the function.\u001b[0m\u001b[0;34m\u001b[0m\u001b[0;34m\u001b[0m\u001b[0;34m\u001b[0m\u001b[0m\n\u001b[0;32m-> 1860\u001b[0;31m       return self._build_call_outputs(self._inference_function.call(\n\u001b[0m\u001b[1;32m   1861\u001b[0m           ctx, args, cancellation_manager=cancellation_manager))\n\u001b[1;32m   1862\u001b[0m     forward_backward = self._select_forward_and_backward_functions(\n",
            "\u001b[0;32m/usr/local/lib/python3.8/dist-packages/tensorflow/python/eager/function.py\u001b[0m in \u001b[0;36mcall\u001b[0;34m(self, ctx, args, cancellation_manager)\u001b[0m\n\u001b[1;32m    495\u001b[0m       \u001b[0;32mwith\u001b[0m \u001b[0m_InterpolateFunctionError\u001b[0m\u001b[0;34m(\u001b[0m\u001b[0mself\u001b[0m\u001b[0;34m)\u001b[0m\u001b[0;34m:\u001b[0m\u001b[0;34m\u001b[0m\u001b[0;34m\u001b[0m\u001b[0m\n\u001b[1;32m    496\u001b[0m         \u001b[0;32mif\u001b[0m \u001b[0mcancellation_manager\u001b[0m \u001b[0;32mis\u001b[0m \u001b[0;32mNone\u001b[0m\u001b[0;34m:\u001b[0m\u001b[0;34m\u001b[0m\u001b[0;34m\u001b[0m\u001b[0m\n\u001b[0;32m--> 497\u001b[0;31m           outputs = execute.execute(\n\u001b[0m\u001b[1;32m    498\u001b[0m               \u001b[0mstr\u001b[0m\u001b[0;34m(\u001b[0m\u001b[0mself\u001b[0m\u001b[0;34m.\u001b[0m\u001b[0msignature\u001b[0m\u001b[0;34m.\u001b[0m\u001b[0mname\u001b[0m\u001b[0;34m)\u001b[0m\u001b[0;34m,\u001b[0m\u001b[0;34m\u001b[0m\u001b[0;34m\u001b[0m\u001b[0m\n\u001b[1;32m    499\u001b[0m               \u001b[0mnum_outputs\u001b[0m\u001b[0;34m=\u001b[0m\u001b[0mself\u001b[0m\u001b[0;34m.\u001b[0m\u001b[0m_num_outputs\u001b[0m\u001b[0;34m,\u001b[0m\u001b[0;34m\u001b[0m\u001b[0;34m\u001b[0m\u001b[0m\n",
            "\u001b[0;32m/usr/local/lib/python3.8/dist-packages/tensorflow/python/eager/execute.py\u001b[0m in \u001b[0;36mquick_execute\u001b[0;34m(op_name, num_outputs, inputs, attrs, ctx, name)\u001b[0m\n\u001b[1;32m     52\u001b[0m   \u001b[0;32mtry\u001b[0m\u001b[0;34m:\u001b[0m\u001b[0;34m\u001b[0m\u001b[0;34m\u001b[0m\u001b[0m\n\u001b[1;32m     53\u001b[0m     \u001b[0mctx\u001b[0m\u001b[0;34m.\u001b[0m\u001b[0mensure_initialized\u001b[0m\u001b[0;34m(\u001b[0m\u001b[0;34m)\u001b[0m\u001b[0;34m\u001b[0m\u001b[0;34m\u001b[0m\u001b[0m\n\u001b[0;32m---> 54\u001b[0;31m     tensors = pywrap_tfe.TFE_Py_Execute(ctx._handle, device_name, op_name,\n\u001b[0m\u001b[1;32m     55\u001b[0m                                         inputs, attrs, num_outputs)\n\u001b[1;32m     56\u001b[0m   \u001b[0;32mexcept\u001b[0m \u001b[0mcore\u001b[0m\u001b[0;34m.\u001b[0m\u001b[0m_NotOkStatusException\u001b[0m \u001b[0;32mas\u001b[0m \u001b[0me\u001b[0m\u001b[0;34m:\u001b[0m\u001b[0;34m\u001b[0m\u001b[0;34m\u001b[0m\u001b[0m\n",
            "\u001b[0;31mKeyboardInterrupt\u001b[0m: "
          ]
        }
      ]
    },
    {
      "cell_type": "code",
      "source": [
        "gru_preds = grumod.predict(X_test[:,:10,:])"
      ],
      "metadata": {
        "colab": {
          "base_uri": "https://localhost:8080/"
        },
        "id": "Cl9C76tX5axg",
        "outputId": "465f76ed-40dc-4073-d49c-4c5b63e5c778"
      },
      "execution_count": 15,
      "outputs": [
        {
          "output_type": "stream",
          "name": "stdout",
          "text": [
            "1093/1093 [==============================] - 4s 3ms/step\n"
          ]
        }
      ]
    },
    {
      "cell_type": "code",
      "source": [
        "confusion_matrix(test.pi_cat,np.round(gru_preds))"
      ],
      "metadata": {
        "colab": {
          "base_uri": "https://localhost:8080/"
        },
        "id": "W1_vQF3s8Jjn",
        "outputId": "def81943-0aab-4292-94c0-dedb39c22b15"
      },
      "execution_count": 16,
      "outputs": [
        {
          "output_type": "execute_result",
          "data": {
            "text/plain": [
              "array([[27242,  6918],\n",
              "       [  236,   570]])"
            ]
          },
          "metadata": {},
          "execution_count": 16
        }
      ]
    },
    {
      "cell_type": "code",
      "source": [
        "f1_score(test.pi_cat,np.round(gru_preds))"
      ],
      "metadata": {
        "colab": {
          "base_uri": "https://localhost:8080/"
        },
        "id": "XJvVj0KzI7FC",
        "outputId": "05914721-545a-4100-8948-c7357c897679"
      },
      "execution_count": 17,
      "outputs": [
        {
          "output_type": "execute_result",
          "data": {
            "text/plain": [
              "0.1374487581384133"
            ]
          },
          "metadata": {},
          "execution_count": 17
        }
      ]
    },
    {
      "cell_type": "code",
      "source": [
        "RocCurveDisplay.from_predictions(test.pi_cat,gru_preds)\n",
        "plt.savefig('gru_roc.png', dpi=300)"
      ],
      "metadata": {
        "id": "cut0MeJT8MKu",
        "colab": {
          "base_uri": "https://localhost:8080/",
          "height": 279
        },
        "outputId": "1536df1a-1200-49b9-e67d-04e9cc650670"
      },
      "execution_count": 18,
      "outputs": [
        {
          "output_type": "display_data",
          "data": {
            "text/plain": [
              "<Figure size 432x288 with 1 Axes>"
            ],
            "image/png": "[encoded data removed]"
          },
          "metadata": {
            "needs_background": "light"
          }
        }
      ]
    }
  ],
  "metadata": {
    "colab": {
      "provenance": []
    },
    "gpuClass": "standard",
    "kernelspec": {
      "display_name": "Python 3",
      "name": "python3"
    },
    "language_info": {
      "name": "python"
    },
    "accelerator": "GPU"
  },
  "nbformat": 4,
  "nbformat_minor": 0
}